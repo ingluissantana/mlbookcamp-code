{
 "cells": [
  {
   "cell_type": "markdown",
   "metadata": {},
   "source": [
    "## 3.15 Homework\n",
    "\n",
    "### Dataset\n",
    "\n",
    "In this homework, we will continue the New York City Airbnb Open Data. You can take it from\n",
    "[Kaggle](https://www.kaggle.com/dgomonov/new-york-city-airbnb-open-data?select=AB_NYC_2019.csv)\n",
    "or download from [here](https://raw.githubusercontent.com/alexeygrigorev/datasets/master/AB_NYC_2019.csv)\n",
    "if you don't want to sign up to Kaggle.\n",
    "\n",
    "We'll keep working with the `'price'` variable, and we'll transform it to a classification task."
   ]
  },
  {
   "cell_type": "code",
   "execution_count": 67,
   "metadata": {},
   "outputs": [],
   "source": [
    "import pandas as pd\n",
    "import numpy as np\n",
    "import matplotlib.pyplot as plt\n",
    "import seaborn as sns\n",
    "from sklearn.model_selection import train_test_split\n",
    "from sklearn.metrics import mutual_info_score\n",
    "\n",
    "from sklearn.feature_extraction import DictVectorizer\n",
    "from sklearn.linear_model import LogisticRegression\n",
    "from sklearn.metrics import accuracy_score\n",
    "\n",
    "from sklearn.preprocessing import StandardScaler\n",
    "from sklearn.preprocessing import MinMaxScaler\n",
    "from sklearn.preprocessing import OneHotEncoder\n",
    "\n",
    "from sklearn.linear_model import Ridge\n",
    "from sklearn.metrics import mean_squared_error\n",
    "\n",
    "\n"
   ]
  },
  {
   "cell_type": "code",
   "execution_count": 2,
   "metadata": {},
   "outputs": [],
   "source": [
    "cols = ['neighbourhood_group','latitude', 'longitude', 'room_type', 'price', 'minimum_nights', 'number_of_reviews', 'reviews_per_month', 'calculated_host_listings_count', 'availability_365']"
   ]
  },
  {
   "cell_type": "code",
   "execution_count": 3,
   "metadata": {},
   "outputs": [],
   "source": [
    "df = pd.read_csv('/Users/luis/Desktop/Py/mlbookcamp-code/course-zoomcamp/03-classification/AB_NYC_2019.csv', usecols=cols)"
   ]
  },
  {
   "cell_type": "markdown",
   "metadata": {},
   "source": [
    "### Features\n",
    "\n",
    "For the rest of the homework, you'll need to use the features from the previous homework with additional two `'neighbourhood_group'` and `'room_type'`. So the whole feature set will be set as follows:\n",
    "\n",
    "* `'neighbourhood_group'`,\n",
    "* `'room_type'`,\n",
    "* `'latitude'`,\n",
    "* `'longitude'`,\n",
    "* `'price'`,\n",
    "* `'minimum_nights'`,\n",
    "* `'number_of_reviews'`,\n",
    "* `'reviews_per_month'`,\n",
    "* `'calculated_host_listings_count'`,\n",
    "* `'availability_365'`\n",
    "\n",
    "Select only them and fill in the missing values with 0."
   ]
  },
  {
   "cell_type": "code",
   "execution_count": 4,
   "metadata": {},
   "outputs": [],
   "source": [
    "df.columns = df.columns.str.lower().str.replace(' ', '_')\n",
    "strings = list(df.dtypes[df.dtypes == 'object'].index)\n",
    "for col in strings:\n",
    "    df[col] = df[col].str.lower().str.replace(' ', '_')"
   ]
  },
  {
   "cell_type": "code",
   "execution_count": 5,
   "metadata": {},
   "outputs": [
    {
     "data": {
      "text/html": [
       "<div>\n",
       "<style scoped>\n",
       "    .dataframe tbody tr th:only-of-type {\n",
       "        vertical-align: middle;\n",
       "    }\n",
       "\n",
       "    .dataframe tbody tr th {\n",
       "        vertical-align: top;\n",
       "    }\n",
       "\n",
       "    .dataframe thead th {\n",
       "        text-align: right;\n",
       "    }\n",
       "</style>\n",
       "<table border=\"1\" class=\"dataframe\">\n",
       "  <thead>\n",
       "    <tr style=\"text-align: right;\">\n",
       "      <th></th>\n",
       "      <th>0</th>\n",
       "      <th>1</th>\n",
       "      <th>2</th>\n",
       "      <th>3</th>\n",
       "      <th>4</th>\n",
       "    </tr>\n",
       "  </thead>\n",
       "  <tbody>\n",
       "    <tr>\n",
       "      <th>neighbourhood_group</th>\n",
       "      <td>brooklyn</td>\n",
       "      <td>manhattan</td>\n",
       "      <td>manhattan</td>\n",
       "      <td>brooklyn</td>\n",
       "      <td>manhattan</td>\n",
       "    </tr>\n",
       "    <tr>\n",
       "      <th>latitude</th>\n",
       "      <td>40.64749</td>\n",
       "      <td>40.75362</td>\n",
       "      <td>40.80902</td>\n",
       "      <td>40.68514</td>\n",
       "      <td>40.79851</td>\n",
       "    </tr>\n",
       "    <tr>\n",
       "      <th>longitude</th>\n",
       "      <td>-73.97237</td>\n",
       "      <td>-73.98377</td>\n",
       "      <td>-73.9419</td>\n",
       "      <td>-73.95976</td>\n",
       "      <td>-73.94399</td>\n",
       "    </tr>\n",
       "    <tr>\n",
       "      <th>room_type</th>\n",
       "      <td>private_room</td>\n",
       "      <td>entire_home/apt</td>\n",
       "      <td>private_room</td>\n",
       "      <td>entire_home/apt</td>\n",
       "      <td>entire_home/apt</td>\n",
       "    </tr>\n",
       "    <tr>\n",
       "      <th>price</th>\n",
       "      <td>149</td>\n",
       "      <td>225</td>\n",
       "      <td>150</td>\n",
       "      <td>89</td>\n",
       "      <td>80</td>\n",
       "    </tr>\n",
       "    <tr>\n",
       "      <th>minimum_nights</th>\n",
       "      <td>1</td>\n",
       "      <td>1</td>\n",
       "      <td>3</td>\n",
       "      <td>1</td>\n",
       "      <td>10</td>\n",
       "    </tr>\n",
       "    <tr>\n",
       "      <th>number_of_reviews</th>\n",
       "      <td>9</td>\n",
       "      <td>45</td>\n",
       "      <td>0</td>\n",
       "      <td>270</td>\n",
       "      <td>9</td>\n",
       "    </tr>\n",
       "    <tr>\n",
       "      <th>reviews_per_month</th>\n",
       "      <td>0.21</td>\n",
       "      <td>0.38</td>\n",
       "      <td>NaN</td>\n",
       "      <td>4.64</td>\n",
       "      <td>0.1</td>\n",
       "    </tr>\n",
       "    <tr>\n",
       "      <th>calculated_host_listings_count</th>\n",
       "      <td>6</td>\n",
       "      <td>2</td>\n",
       "      <td>1</td>\n",
       "      <td>1</td>\n",
       "      <td>1</td>\n",
       "    </tr>\n",
       "    <tr>\n",
       "      <th>availability_365</th>\n",
       "      <td>365</td>\n",
       "      <td>355</td>\n",
       "      <td>365</td>\n",
       "      <td>194</td>\n",
       "      <td>0</td>\n",
       "    </tr>\n",
       "  </tbody>\n",
       "</table>\n",
       "</div>"
      ],
      "text/plain": [
       "                                           0                1             2  \\\n",
       "neighbourhood_group                 brooklyn        manhattan     manhattan   \n",
       "latitude                            40.64749         40.75362      40.80902   \n",
       "longitude                          -73.97237        -73.98377      -73.9419   \n",
       "room_type                       private_room  entire_home/apt  private_room   \n",
       "price                                    149              225           150   \n",
       "minimum_nights                             1                1             3   \n",
       "number_of_reviews                          9               45             0   \n",
       "reviews_per_month                       0.21             0.38           NaN   \n",
       "calculated_host_listings_count             6                2             1   \n",
       "availability_365                         365              355           365   \n",
       "\n",
       "                                              3                4  \n",
       "neighbourhood_group                    brooklyn        manhattan  \n",
       "latitude                               40.68514         40.79851  \n",
       "longitude                             -73.95976        -73.94399  \n",
       "room_type                       entire_home/apt  entire_home/apt  \n",
       "price                                        89               80  \n",
       "minimum_nights                                1               10  \n",
       "number_of_reviews                           270                9  \n",
       "reviews_per_month                          4.64              0.1  \n",
       "calculated_host_listings_count                1                1  \n",
       "availability_365                            194                0  "
      ]
     },
     "execution_count": 5,
     "metadata": {},
     "output_type": "execute_result"
    }
   ],
   "source": [
    "df.head().T"
   ]
  },
  {
   "cell_type": "code",
   "execution_count": 6,
   "metadata": {},
   "outputs": [],
   "source": [
    "df.reviews_per_month.fillna(0, inplace=True)"
   ]
  },
  {
   "cell_type": "code",
   "execution_count": 7,
   "metadata": {},
   "outputs": [
    {
     "data": {
      "text/plain": [
       "neighbourhood_group               0\n",
       "latitude                          0\n",
       "longitude                         0\n",
       "room_type                         0\n",
       "price                             0\n",
       "minimum_nights                    0\n",
       "number_of_reviews                 0\n",
       "reviews_per_month                 0\n",
       "calculated_host_listings_count    0\n",
       "availability_365                  0\n",
       "dtype: int64"
      ]
     },
     "execution_count": 7,
     "metadata": {},
     "output_type": "execute_result"
    }
   ],
   "source": [
    "df.isna().sum()"
   ]
  },
  {
   "cell_type": "markdown",
   "metadata": {},
   "source": [
    "### Question 1\n",
    "\n",
    "What is the most frequent observation (mode) for the column `'neighbourhood_group'`?\n",
    "\n",
    "Sol: Manhattan"
   ]
  },
  {
   "cell_type": "code",
   "execution_count": 8,
   "metadata": {},
   "outputs": [
    {
     "data": {
      "text/plain": [
       "0    manhattan\n",
       "dtype: object"
      ]
     },
     "execution_count": 8,
     "metadata": {},
     "output_type": "execute_result"
    }
   ],
   "source": [
    "#calculate the mode for column 'neighbourhood_group'\n",
    "df['neighbourhood_group'].mode()"
   ]
  },
  {
   "cell_type": "markdown",
   "metadata": {},
   "source": [
    "### Split the data\n",
    "\n",
    "* Split your data in train/val/test sets, with 60%/20%/20% distribution.\n",
    "* Use Scikit-Learn for that (the `train_test_split` function) and set the seed to 42.\n",
    "* Make sure that the target value ('price') is not in your dataframe."
   ]
  },
  {
   "cell_type": "code",
   "execution_count": 9,
   "metadata": {},
   "outputs": [],
   "source": [
    "df_train_full, df_test = train_test_split(df, test_size=0.2, random_state=42)\n",
    "df_train, df_val = train_test_split(df_train_full, test_size=0.25, random_state=42)\n",
    "\n",
    "df_train = df_train.reset_index(drop=True)\n",
    "df_val = df_val.reset_index(drop=True)\n",
    "df_test = df_test.reset_index(drop=True)\n",
    "\n",
    "y_train = df_train.price.values\n",
    "y_val = df_val.price.values\n",
    "y_test = df_test.price.values\n",
    "\n",
    "del df_train['price']\n",
    "del df_val['price']\n",
    "del df_test['price']"
   ]
  },
  {
   "cell_type": "markdown",
   "metadata": {},
   "source": [
    "### Question 2\n",
    "\n",
    "* Create the [correlation matrix](https://www.google.com/search?q=correlation+matrix) for the numerical features of your train dataset.\n",
    "   * In a correlation matrix, you compute the correlation coefficient between every pair of features in the dataset.\n",
    "* What are the two features that have the biggest correlation in this dataset?\n",
    "\n",
    "Example of a correlation matrix for the car price dataset:\n",
    "\n",
    "<img src=\"images/correlation-matrix.png\" />\n",
    "\n",
    "Sol: 1.- number_of_reviews, reviews_per_month, 2.- calculated_host_listings_count, availability_365"
   ]
  },
  {
   "cell_type": "code",
   "execution_count": 10,
   "metadata": {},
   "outputs": [
    {
     "data": {
      "text/html": [
       "<style  type=\"text/css\" >\n",
       "#T_c5875_row0_col0,#T_c5875_row1_col1,#T_c5875_row2_col2,#T_c5875_row3_col3,#T_c5875_row4_col4,#T_c5875_row5_col5,#T_c5875_row6_col6{\n",
       "            background-color:  #b40426;\n",
       "            color:  #f1f1f1;\n",
       "        }#T_c5875_row0_col1,#T_c5875_row3_col6,#T_c5875_row6_col1{\n",
       "            background-color:  #7396f5;\n",
       "            color:  #000000;\n",
       "        }#T_c5875_row0_col2{\n",
       "            background-color:  #6384eb;\n",
       "            color:  #000000;\n",
       "        }#T_c5875_row0_col3,#T_c5875_row5_col4{\n",
       "            background-color:  #4e68d8;\n",
       "            color:  #000000;\n",
       "        }#T_c5875_row0_col4{\n",
       "            background-color:  #5977e3;\n",
       "            color:  #000000;\n",
       "        }#T_c5875_row0_col5,#T_c5875_row1_col3{\n",
       "            background-color:  #6180e9;\n",
       "            color:  #000000;\n",
       "        }#T_c5875_row0_col6,#T_c5875_row1_col5,#T_c5875_row2_col3,#T_c5875_row2_col4,#T_c5875_row3_col0,#T_c5875_row4_col0,#T_c5875_row4_col2,#T_c5875_row5_col1,#T_c5875_row5_col3,#T_c5875_row6_col0{\n",
       "            background-color:  #3b4cc0;\n",
       "            color:  #f1f1f1;\n",
       "        }#T_c5875_row1_col0,#T_c5875_row1_col6{\n",
       "            background-color:  #5572df;\n",
       "            color:  #000000;\n",
       "        }#T_c5875_row1_col2{\n",
       "            background-color:  #4a63d3;\n",
       "            color:  #f1f1f1;\n",
       "        }#T_c5875_row1_col4,#T_c5875_row5_col6{\n",
       "            background-color:  #85a8fc;\n",
       "            color:  #000000;\n",
       "        }#T_c5875_row2_col0{\n",
       "            background-color:  #445acc;\n",
       "            color:  #f1f1f1;\n",
       "        }#T_c5875_row2_col1{\n",
       "            background-color:  #4961d2;\n",
       "            color:  #f1f1f1;\n",
       "        }#T_c5875_row2_col5,#T_c5875_row5_col2{\n",
       "            background-color:  #80a3fa;\n",
       "            color:  #000000;\n",
       "        }#T_c5875_row2_col6{\n",
       "            background-color:  #6788ee;\n",
       "            color:  #000000;\n",
       "        }#T_c5875_row3_col1{\n",
       "            background-color:  #6b8df0;\n",
       "            color:  #000000;\n",
       "        }#T_c5875_row3_col2,#T_c5875_row3_col5{\n",
       "            background-color:  #465ecf;\n",
       "            color:  #f1f1f1;\n",
       "        }#T_c5875_row3_col4{\n",
       "            background-color:  #f5c1a9;\n",
       "            color:  #000000;\n",
       "        }#T_c5875_row4_col1{\n",
       "            background-color:  #84a7fc;\n",
       "            color:  #000000;\n",
       "        }#T_c5875_row4_col3{\n",
       "            background-color:  #f4c6af;\n",
       "            color:  #000000;\n",
       "        }#T_c5875_row4_col5{\n",
       "            background-color:  #4c66d6;\n",
       "            color:  #000000;\n",
       "        }#T_c5875_row4_col6{\n",
       "            background-color:  #7093f3;\n",
       "            color:  #000000;\n",
       "        }#T_c5875_row5_col0{\n",
       "            background-color:  #4257c9;\n",
       "            color:  #f1f1f1;\n",
       "        }#T_c5875_row6_col2,#T_c5875_row6_col3{\n",
       "            background-color:  #86a9fc;\n",
       "            color:  #000000;\n",
       "        }#T_c5875_row6_col4{\n",
       "            background-color:  #8fb1fe;\n",
       "            color:  #000000;\n",
       "        }#T_c5875_row6_col5{\n",
       "            background-color:  #a1c0ff;\n",
       "            color:  #000000;\n",
       "        }</style><table id=\"T_c5875_\" ><thead>    <tr>        <th class=\"blank level0\" ></th>        <th class=\"col_heading level0 col0\" >latitude</th>        <th class=\"col_heading level0 col1\" >longitude</th>        <th class=\"col_heading level0 col2\" >minimum_nights</th>        <th class=\"col_heading level0 col3\" >number_of_reviews</th>        <th class=\"col_heading level0 col4\" >reviews_per_month</th>        <th class=\"col_heading level0 col5\" >calculated_host_listings_count</th>        <th class=\"col_heading level0 col6\" >availability_365</th>    </tr></thead><tbody>\n",
       "                <tr>\n",
       "                        <th id=\"T_c5875_level0_row0\" class=\"row_heading level0 row0\" >latitude</th>\n",
       "                        <td id=\"T_c5875_row0_col0\" class=\"data row0 col0\" >1.000000</td>\n",
       "                        <td id=\"T_c5875_row0_col1\" class=\"data row0 col1\" >0.080301</td>\n",
       "                        <td id=\"T_c5875_row0_col2\" class=\"data row0 col2\" >0.027441</td>\n",
       "                        <td id=\"T_c5875_row0_col3\" class=\"data row0 col3\" >-0.006246</td>\n",
       "                        <td id=\"T_c5875_row0_col4\" class=\"data row0 col4\" >-0.007159</td>\n",
       "                        <td id=\"T_c5875_row0_col5\" class=\"data row0 col5\" >0.019375</td>\n",
       "                        <td id=\"T_c5875_row0_col6\" class=\"data row0 col6\" >-0.005891</td>\n",
       "            </tr>\n",
       "            <tr>\n",
       "                        <th id=\"T_c5875_level0_row1\" class=\"row_heading level0 row1\" >longitude</th>\n",
       "                        <td id=\"T_c5875_row1_col0\" class=\"data row1 col0\" >0.080301</td>\n",
       "                        <td id=\"T_c5875_row1_col1\" class=\"data row1 col1\" >1.000000</td>\n",
       "                        <td id=\"T_c5875_row1_col2\" class=\"data row1 col2\" >-0.060660</td>\n",
       "                        <td id=\"T_c5875_row1_col3\" class=\"data row1 col3\" >0.055084</td>\n",
       "                        <td id=\"T_c5875_row1_col4\" class=\"data row1 col4\" >0.134642</td>\n",
       "                        <td id=\"T_c5875_row1_col5\" class=\"data row1 col5\" >-0.117041</td>\n",
       "                        <td id=\"T_c5875_row1_col6\" class=\"data row1 col6\" >0.083666</td>\n",
       "            </tr>\n",
       "            <tr>\n",
       "                        <th id=\"T_c5875_level0_row2\" class=\"row_heading level0 row2\" >minimum_nights</th>\n",
       "                        <td id=\"T_c5875_row2_col0\" class=\"data row2 col0\" >0.027441</td>\n",
       "                        <td id=\"T_c5875_row2_col1\" class=\"data row2 col1\" >-0.060660</td>\n",
       "                        <td id=\"T_c5875_row2_col2\" class=\"data row2 col2\" >1.000000</td>\n",
       "                        <td id=\"T_c5875_row2_col3\" class=\"data row2 col3\" >-0.076020</td>\n",
       "                        <td id=\"T_c5875_row2_col4\" class=\"data row2 col4\" >-0.120703</td>\n",
       "                        <td id=\"T_c5875_row2_col5\" class=\"data row2 col5\" >0.118647</td>\n",
       "                        <td id=\"T_c5875_row2_col6\" class=\"data row2 col6\" >0.138901</td>\n",
       "            </tr>\n",
       "            <tr>\n",
       "                        <th id=\"T_c5875_level0_row3\" class=\"row_heading level0 row3\" >number_of_reviews</th>\n",
       "                        <td id=\"T_c5875_row3_col0\" class=\"data row3 col0\" >-0.006246</td>\n",
       "                        <td id=\"T_c5875_row3_col1\" class=\"data row3 col1\" >0.055084</td>\n",
       "                        <td id=\"T_c5875_row3_col2\" class=\"data row3 col2\" >-0.076020</td>\n",
       "                        <td id=\"T_c5875_row3_col3\" class=\"data row3 col3\" >1.000000</td>\n",
       "                        <td id=\"T_c5875_row3_col4\" class=\"data row3 col4\" >0.590374</td>\n",
       "                        <td id=\"T_c5875_row3_col5\" class=\"data row3 col5\" >-0.073167</td>\n",
       "                        <td id=\"T_c5875_row3_col6\" class=\"data row3 col6\" >0.174477</td>\n",
       "            </tr>\n",
       "            <tr>\n",
       "                        <th id=\"T_c5875_level0_row4\" class=\"row_heading level0 row4\" >reviews_per_month</th>\n",
       "                        <td id=\"T_c5875_row4_col0\" class=\"data row4 col0\" >-0.007159</td>\n",
       "                        <td id=\"T_c5875_row4_col1\" class=\"data row4 col1\" >0.134642</td>\n",
       "                        <td id=\"T_c5875_row4_col2\" class=\"data row4 col2\" >-0.120703</td>\n",
       "                        <td id=\"T_c5875_row4_col3\" class=\"data row4 col3\" >0.590374</td>\n",
       "                        <td id=\"T_c5875_row4_col4\" class=\"data row4 col4\" >1.000000</td>\n",
       "                        <td id=\"T_c5875_row4_col5\" class=\"data row4 col5\" >-0.048767</td>\n",
       "                        <td id=\"T_c5875_row4_col6\" class=\"data row4 col6\" >0.165376</td>\n",
       "            </tr>\n",
       "            <tr>\n",
       "                        <th id=\"T_c5875_level0_row5\" class=\"row_heading level0 row5\" >calculated_host_listings_count</th>\n",
       "                        <td id=\"T_c5875_row5_col0\" class=\"data row5 col0\" >0.019375</td>\n",
       "                        <td id=\"T_c5875_row5_col1\" class=\"data row5 col1\" >-0.117041</td>\n",
       "                        <td id=\"T_c5875_row5_col2\" class=\"data row5 col2\" >0.118647</td>\n",
       "                        <td id=\"T_c5875_row5_col3\" class=\"data row5 col3\" >-0.073167</td>\n",
       "                        <td id=\"T_c5875_row5_col4\" class=\"data row5 col4\" >-0.048767</td>\n",
       "                        <td id=\"T_c5875_row5_col5\" class=\"data row5 col5\" >1.000000</td>\n",
       "                        <td id=\"T_c5875_row5_col6\" class=\"data row5 col6\" >0.225913</td>\n",
       "            </tr>\n",
       "            <tr>\n",
       "                        <th id=\"T_c5875_level0_row6\" class=\"row_heading level0 row6\" >availability_365</th>\n",
       "                        <td id=\"T_c5875_row6_col0\" class=\"data row6 col0\" >-0.005891</td>\n",
       "                        <td id=\"T_c5875_row6_col1\" class=\"data row6 col1\" >0.083666</td>\n",
       "                        <td id=\"T_c5875_row6_col2\" class=\"data row6 col2\" >0.138901</td>\n",
       "                        <td id=\"T_c5875_row6_col3\" class=\"data row6 col3\" >0.174477</td>\n",
       "                        <td id=\"T_c5875_row6_col4\" class=\"data row6 col4\" >0.165376</td>\n",
       "                        <td id=\"T_c5875_row6_col5\" class=\"data row6 col5\" >0.225913</td>\n",
       "                        <td id=\"T_c5875_row6_col6\" class=\"data row6 col6\" >1.000000</td>\n",
       "            </tr>\n",
       "    </tbody></table>"
      ],
      "text/plain": [
       "<pandas.io.formats.style.Styler at 0x7fde4df70910>"
      ]
     },
     "execution_count": 10,
     "metadata": {},
     "output_type": "execute_result"
    }
   ],
   "source": [
    "#create a correlation matrix\n",
    "corr = df_train.corr()\n",
    "corr.style.background_gradient(cmap='coolwarm')"
   ]
  },
  {
   "cell_type": "markdown",
   "metadata": {},
   "source": [
    "### Make price binary\n",
    "\n",
    "* We need to turn the price variable from numeric into binary.\n",
    "* Let's create a variable `above_average` which is `1` if the price is above (or equal to) `152`."
   ]
  },
  {
   "cell_type": "code",
   "execution_count": 11,
   "metadata": {},
   "outputs": [],
   "source": [
    "df_above = df.copy()\n",
    "df_above['above_average'] = np.where(df_above.price >= 152,1,0)"
   ]
  },
  {
   "cell_type": "code",
   "execution_count": 12,
   "metadata": {},
   "outputs": [],
   "source": [
    "df_above = df_above.drop(['price'], axis=1)"
   ]
  },
  {
   "cell_type": "code",
   "execution_count": 13,
   "metadata": {},
   "outputs": [],
   "source": [
    "df_train_full, df_test = train_test_split(df_above, test_size=0.2, random_state=42)\n",
    "df_train, df_val = train_test_split(df_train_full, test_size=0.25, random_state=42)\n",
    "\n",
    "df_train = df_train.reset_index(drop=True)\n",
    "df_val = df_val.reset_index(drop=True)\n",
    "df_test = df_test.reset_index(drop=True)\n",
    "\n",
    "y_train = df_train.above_average.values\n",
    "y_val = df_val.above_average.values\n",
    "y_test = df_test.above_average.values\n",
    "\n"
   ]
  },
  {
   "cell_type": "markdown",
   "metadata": {},
   "source": [
    "### Question 3\n",
    "\n",
    "* Calculate the mutual information score with the (binarized) price for the two categorical variables that we have. Use the training set only.\n",
    "* Which of these two variables has bigger score?\n",
    "* Round it to 2 decimal digits using `round(score, 2)`\n",
    "\n",
    "Sol: room_type"
   ]
  },
  {
   "cell_type": "code",
   "execution_count": 15,
   "metadata": {},
   "outputs": [],
   "source": [
    "def mutual_info_churn_score(series):\n",
    "    return mutual_info_score(series, df_train_full.above_average)"
   ]
  },
  {
   "cell_type": "code",
   "execution_count": 16,
   "metadata": {},
   "outputs": [],
   "source": [
    "categorical = df_train_full.dtypes[df_train_full.dtypes == 'object'].index"
   ]
  },
  {
   "cell_type": "code",
   "execution_count": 25,
   "metadata": {},
   "outputs": [],
   "source": [
    "cat = list(categorical)"
   ]
  },
  {
   "cell_type": "code",
   "execution_count": 19,
   "metadata": {},
   "outputs": [
    {
     "data": {
      "text/plain": [
       "room_type              0.14\n",
       "neighbourhood_group    0.05\n",
       "dtype: float64"
      ]
     },
     "execution_count": 19,
     "metadata": {},
     "output_type": "execute_result"
    }
   ],
   "source": [
    "mi = df_train_full[categorical].apply(mutual_info_churn_score)\n",
    "round(mi.sort_values(ascending=False),2)"
   ]
  },
  {
   "cell_type": "markdown",
   "metadata": {},
   "source": [
    "### Question 4\n",
    "\n",
    "* Now let's train a logistic regression\n",
    "* Remember that we have two categorical variables in the data. Include them using one-hot encoding.\n",
    "* Fit the model on the training dataset.\n",
    "   * To make sure the results are reproducible across different versions of Scikit-Learn, fit the model with these parameters:\n",
    "   * `model = LogisticRegression(solver='lbfgs', C=1.0, random_state=42)`\n",
    "* Calculate the accuracy on the validation dataset and round it to 2 decimal digits."
   ]
  },
  {
   "cell_type": "code",
   "execution_count": 57,
   "metadata": {},
   "outputs": [],
   "source": [
    "num = df_train_full.dtypes[df_train_full.dtypes != 'object'].index\n",
    "num = list(num)"
   ]
  },
  {
   "cell_type": "code",
   "execution_count": 58,
   "metadata": {},
   "outputs": [],
   "source": [
    "train_dict = df_train[cat + num].to_dict(orient='records')\n",
    "\n",
    "dv = DictVectorizer(sparse=False)\n",
    "dv.fit(train_dict)\n",
    "\n",
    "X_train = dv.transform(train_dict)\n"
   ]
  },
  {
   "cell_type": "code",
   "execution_count": 59,
   "metadata": {},
   "outputs": [
    {
     "data": {
      "text/plain": [
       "array([[  0.,  50.,  13., ...,   1.,   0.,   0.],\n",
       "       [  0.,   7.,   1., ...,   0.,   1.,   0.],\n",
       "       [  0.,   0.,   1., ...,   1.,   0.,   0.],\n",
       "       ...,\n",
       "       [  1.,  88.,   1., ...,   0.,   1.,   0.],\n",
       "       [  0.,   0.,   1., ...,   0.,   1.,   0.],\n",
       "       [  0., 281.,   2., ...,   1.,   0.,   0.]])"
      ]
     },
     "execution_count": 59,
     "metadata": {},
     "output_type": "execute_result"
    }
   ],
   "source": [
    "X_train #numpy.ndarray"
   ]
  },
  {
   "cell_type": "markdown",
   "metadata": {},
   "source": [
    "### OHE"
   ]
  },
  {
   "cell_type": "code",
   "execution_count": 43,
   "metadata": {},
   "outputs": [],
   "source": [
    "X_train_num = df_train[num].values\n",
    "\n",
    "scaler = StandardScaler()\n",
    "\n",
    "X_train_num = scaler.fit_transform(X_train_num)"
   ]
  },
  {
   "cell_type": "code",
   "execution_count": 45,
   "metadata": {},
   "outputs": [],
   "source": [
    "ohe = OneHotEncoder(sparse=False, handle_unknown='ignore')\n",
    "\n",
    "X_train_cat = ohe.fit_transform(df_train[cat].values)"
   ]
  },
  {
   "cell_type": "code",
   "execution_count": 46,
   "metadata": {},
   "outputs": [
    {
     "name": "stderr",
     "output_type": "stream",
     "text": [
      "/Users/luis/opt/anaconda3/envs/ds/lib/python3.9/site-packages/sklearn/utils/deprecation.py:87: FutureWarning: Function get_feature_names is deprecated; get_feature_names is deprecated in 1.0 and will be removed in 1.2. Please use get_feature_names_out instead.\n",
      "  warnings.warn(msg, category=FutureWarning)\n"
     ]
    },
    {
     "data": {
      "text/plain": [
       "array(['x0_bronx', 'x0_brooklyn', 'x0_manhattan', 'x0_queens',\n",
       "       'x0_staten_island', 'x1_entire_home/apt', 'x1_private_room',\n",
       "       'x1_shared_room'], dtype=object)"
      ]
     },
     "execution_count": 46,
     "metadata": {},
     "output_type": "execute_result"
    }
   ],
   "source": [
    "ohe.get_feature_names()"
   ]
  },
  {
   "cell_type": "code",
   "execution_count": 60,
   "metadata": {},
   "outputs": [],
   "source": [
    "X_train = np.column_stack([X_train_num, X_train_cat])"
   ]
  },
  {
   "cell_type": "code",
   "execution_count": 61,
   "metadata": {},
   "outputs": [
    {
     "data": {
      "text/plain": [
       "LogisticRegression(random_state=42)"
      ]
     },
     "execution_count": 61,
     "metadata": {},
     "output_type": "execute_result"
    }
   ],
   "source": [
    "model = LogisticRegression(solver='lbfgs', C=1.0, random_state=42)\n",
    "model.fit(X_train, y_train)"
   ]
  },
  {
   "cell_type": "markdown",
   "metadata": {},
   "source": [
    "### Check accuracy in df_val (2 methods)"
   ]
  },
  {
   "cell_type": "code",
   "execution_count": 64,
   "metadata": {},
   "outputs": [
    {
     "name": "stdout",
     "output_type": "stream",
     "text": [
      "0.57\n"
     ]
    }
   ],
   "source": [
    "model = LogisticRegression(solver='lbfgs', C=1.0, random_state=42)\n",
    "model.fit(X_train, y_train)\n",
    "\n",
    "val_dict = df_val[cat + num].to_dict(orient='records')\n",
    "X_val = dv.transform(val_dict)\n",
    "\n",
    "y_pred = model.predict(X_val)\n",
    "\n",
    "accuracy = np.round(accuracy_score(y_val, y_pred),2)\n",
    "print(accuracy)"
   ]
  },
  {
   "cell_type": "code",
   "execution_count": 62,
   "metadata": {},
   "outputs": [],
   "source": [
    "X_val_num = df_val[num].values\n",
    "X_val_num = scaler.transform(X_val_num)\n",
    "\n",
    "X_val_cat = ohe.transform(df_val[cat].values)\n",
    "\n",
    "X_val = np.column_stack([X_val_num, X_val_cat])"
   ]
  },
  {
   "cell_type": "code",
   "execution_count": 63,
   "metadata": {},
   "outputs": [
    {
     "data": {
      "text/plain": [
       "1.0"
      ]
     },
     "execution_count": 63,
     "metadata": {},
     "output_type": "execute_result"
    }
   ],
   "source": [
    "y_pred = model.predict_proba(X_val)[:, 1]\n",
    "accuracy_score(y_val, y_pred >= 0.5)"
   ]
  },
  {
   "cell_type": "markdown",
   "metadata": {},
   "source": [
    "### Question 5\n",
    "\n",
    "* We have 9 features: 7 numerical features and 2 categorical.\n",
    "* Let's find the least useful one using the *feature elimination* technique.\n",
    "* Train a model with all these features (using the same parameters as in Q4).\n",
    "* Now exclude each feature from this set and train a model without it. Record the accuracy for each model.\n",
    "* For each feature, calculate the difference between the original accuracy and the accuracy without the feature. \n",
    "* Which of following feature has the smallest difference? \n",
    "   * `neighbourhood_group`\n",
    "   * `room_type` \n",
    "   * `number_of_reviews`\n",
    "   * `reviews_per_month`\n",
    "\n",
    "> **note**: the difference doesn't have to be positive"
   ]
  },
  {
   "cell_type": "code",
   "execution_count": 53,
   "metadata": {},
   "outputs": [
    {
     "data": {
      "text/plain": [
       "['neighbourhood_group',\n",
       " 'room_type',\n",
       " 'latitude',\n",
       " 'longitude',\n",
       " 'minimum_nights',\n",
       " 'number_of_reviews',\n",
       " 'reviews_per_month',\n",
       " 'calculated_host_listings_count',\n",
       " 'availability_365',\n",
       " 'above_average']"
      ]
     },
     "execution_count": 53,
     "metadata": {},
     "output_type": "execute_result"
    }
   ],
   "source": [
    "features = cat + num\n",
    "features"
   ]
  },
  {
   "cell_type": "code",
   "execution_count": null,
   "metadata": {},
   "outputs": [],
   "source": [
    "orig_score = accuracy #save the original accuracy score\n",
    "\n",
    "\n",
    "for c in features:  #for each feature\n",
    "    subset = features.copy()    #create a copy of the features\n",
    "    subset.remove(c)        #remove the feature from the list\n",
    "    \n",
    "    train_dict = df_train[subset].to_dict(orient='records') #create a list of dictionaries\n",
    "\n",
    "    dv = DictVectorizer(sparse=False)   #create a DictVectorizer\n",
    "    dv.fit(train_dict)  #fit the DictVectorizer to the list of dictionaries\n",
    "\n",
    "    X_train = dv.transform(train_dict)  #transform the list of dictionaries into a numpy array\n",
    "\n",
    "    model = LogisticRegression(solver='lbfgs', C=1.0, random_state=42)  #create a LogisticRegression model\n",
    "    model.fit(X_train, y_train) #fit the model to the training data\n",
    "\n",
    "    val_dict = df_val[subset].to_dict(orient='records') #create a list of dictionaries\n",
    "    X_val = dv.transform(val_dict)  #transform the list of dictionaries into a numpy array\n",
    "\n",
    "    y_pred = model.predict(X_val)   #predict the labels of the validation data\n",
    "\n",
    "    score = accuracy_score(y_val, y_pred)   #calculate the accuracy score\n",
    "    print(c, orig_score - score, score) #print the feature, the difference in accuracy, and the accuracy score"
   ]
  },
  {
   "cell_type": "markdown",
   "metadata": {},
   "source": [
    "### Question 6\n",
    "\n",
    "* For this question, we'll see how to use a linear regression model from Scikit-Learn\n",
    "* We'll need to use the original column `'price'`. Apply the logarithmic transformation to this column.\n",
    "* Fit the Ridge regression model on the training data.\n",
    "* This model has a parameter `alpha`. Let's try the following values: `[0, 0.01, 0.1, 1, 10]`\n",
    "* Which of these alphas leads to the best RMSE on the validation set? Round your RMSE scores to 3 decimal digits.\n",
    "\n",
    "If there are multiple options, select the smallest `alpha`."
   ]
  },
  {
   "cell_type": "code",
   "execution_count": 66,
   "metadata": {},
   "outputs": [],
   "source": [
    "train_dict = df_train[cat + num].to_dict(orient='records')  #create a list of dictionaries\n",
    "\n",
    "dv = DictVectorizer(sparse=False)   #create a DictVectorizer\n",
    "dv.fit(train_dict)  #fit the DictVectorizer to the list of dictionaries\n",
    "\n",
    "X_train = dv.transform(train_dict) #transform the list of dictionaries into a numpy array\n",
    "\n",
    "val_dict = df_val[cat + num].to_dict(orient='records')  #create a list of dictionaries\n",
    "X_val = dv.transform(val_dict)  #transform the list of dictionaries into a numpy array"
   ]
  },
  {
   "cell_type": "code",
   "execution_count": 68,
   "metadata": {},
   "outputs": [
    {
     "name": "stdout",
     "output_type": "stream",
     "text": [
      "0 0.0\n",
      "0.01 0.0\n",
      "0.1 0.0\n",
      "1 0.0\n",
      "10 0.001\n"
     ]
    }
   ],
   "source": [
    "for a in [0, 0.01, 0.1, 1, 10]:\n",
    "    model = Ridge(alpha=a,random_state=42)\n",
    "    model.fit(X_train, y_train)\n",
    "    \n",
    "    y_pred = model.predict(X_val)\n",
    "    \n",
    "    score = np.sqrt(mean_squared_error(y_val, y_pred))\n",
    "    \n",
    "    print(a, round(score, 3))"
   ]
  },
  {
   "cell_type": "code",
   "execution_count": null,
   "metadata": {},
   "outputs": [],
   "source": []
  }
 ],
 "metadata": {
  "kernelspec": {
   "display_name": "ds",
   "language": "python",
   "name": "ds"
  },
  "language_info": {
   "codemirror_mode": {
    "name": "ipython",
    "version": 3
   },
   "file_extension": ".py",
   "mimetype": "text/x-python",
   "name": "python",
   "nbconvert_exporter": "python",
   "pygments_lexer": "ipython3",
   "version": "3.9.12"
  },
  "vscode": {
   "interpreter": {
    "hash": "7e1998ff7f8aa20ada591c520b972326324e5ea05489af9e422744c7c09f6dad"
   }
  }
 },
 "nbformat": 4,
 "nbformat_minor": 4
}
