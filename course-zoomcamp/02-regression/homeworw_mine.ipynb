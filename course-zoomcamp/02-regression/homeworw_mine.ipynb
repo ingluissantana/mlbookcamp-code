{
 "cells": [
  {
   "cell_type": "code",
   "execution_count": null,
   "metadata": {},
   "outputs": [],
   "source": [
    "# try -> sweetviz, dataprep, dtale, profiling, lux\n"
   ]
  },
  {
   "cell_type": "code",
   "execution_count": null,
   "metadata": {},
   "outputs": [],
   "source": [
    "#import \n"
   ]
  }
 ],
 "metadata": {
  "kernelspec": {
   "display_name": "Python 3.9.11 ('KenYT')",
   "language": "python",
   "name": "python3"
  },
  "language_info": {
   "codemirror_mode": {
    "name": "ipython",
    "version": 3
   },
   "file_extension": ".py",
   "mimetype": "text/x-python",
   "name": "python",
   "nbconvert_exporter": "python",
   "pygments_lexer": "ipython3",
   "version": "3.9.11"
  },
  "vscode": {
   "interpreter": {
    "hash": "b1790f4b5894c0e841de98caadbca7279a47348ac8b6a5ad11024eb041f1a9ce"
   }
  }
 },
 "nbformat": 4,
 "nbformat_minor": 4
}
